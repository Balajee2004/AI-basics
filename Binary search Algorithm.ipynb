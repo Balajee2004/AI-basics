{
 "cells": [
  {
   "cell_type": "markdown",
   "id": "675040d8",
   "metadata": {},
   "source": [
    "# Creating data"
   ]
  },
  {
   "cell_type": "code",
   "execution_count": 22,
   "id": "e014dd88",
   "metadata": {},
   "outputs": [],
   "source": [
    "data = [16,21,15,7,8,24,9,1,30,10,25,13,26,11,2,5,20,28,18,3]"
   ]
  },
  {
   "cell_type": "markdown",
   "id": "69466bb2",
   "metadata": {},
   "source": [
    "# Sorting data"
   ]
  },
  {
   "cell_type": "code",
   "execution_count": 23,
   "id": "08325e37",
   "metadata": {},
   "outputs": [
    {
     "name": "stdout",
     "output_type": "stream",
     "text": [
      "[1, 2, 3, 5, 7, 8, 9, 10, 11, 13, 15, 16, 18, 20, 21, 24, 25, 26, 28, 30]\n"
     ]
    }
   ],
   "source": [
    "data.sort()\n",
    "print(data)"
   ]
  },
  {
   "cell_type": "markdown",
   "id": "90dc256a",
   "metadata": {},
   "source": [
    "# Getting input for search"
   ]
  },
  {
   "cell_type": "code",
   "execution_count": 24,
   "id": "4b5b7e50",
   "metadata": {},
   "outputs": [
    {
     "name": "stdout",
     "output_type": "stream",
     "text": [
      "Enter the search element: 21\n"
     ]
    }
   ],
   "source": [
    "elem = int(input(\"Enter the search element: \"))"
   ]
  },
  {
   "cell_type": "markdown",
   "id": "58c7a2ba",
   "metadata": {},
   "source": [
    "# Creating function"
   ]
  },
  {
   "cell_type": "code",
   "execution_count": 25,
   "id": "2eceeef3",
   "metadata": {},
   "outputs": [],
   "source": [
    "def binary_search(data, elem):\n",
    "    low = 0\n",
    "    high = len(data) - 1\n",
    "    while low <= high:\n",
    "        middle = (low + high)//2\n",
    "        if data[middle] == elem:\n",
    "            print(f\"The searching element {elem} is present at index value {middle} in dataset \")\n",
    "            break\n",
    "        elif data[middle] > elem:\n",
    "            high = middle - 1\n",
    "        else :\n",
    "            low = middle + 1\n",
    "            if data[middle] != elem:\n",
    "                print(f\"The searching element {elem} is not present in the dataset\")\n",
    "    return -1"
   ]
  },
  {
   "cell_type": "markdown",
   "id": "0aede818",
   "metadata": {},
   "source": [
    "# Calling the function"
   ]
  },
  {
   "cell_type": "code",
   "execution_count": 26,
   "id": "8f4b0534",
   "metadata": {},
   "outputs": [
    {
     "name": "stdout",
     "output_type": "stream",
     "text": [
      "The searching element 21 is not present in the dataset\n",
      "The searching element 21 is present at index value 14 in dataset \n"
     ]
    },
    {
     "data": {
      "text/plain": [
       "-1"
      ]
     },
     "execution_count": 26,
     "metadata": {},
     "output_type": "execute_result"
    }
   ],
   "source": [
    "binary_search(data, elem)"
   ]
  },
  {
   "cell_type": "code",
   "execution_count": null,
   "id": "6bd60e66",
   "metadata": {},
   "outputs": [],
   "source": []
  }
 ],
 "metadata": {
  "kernelspec": {
   "display_name": "Python 3 (ipykernel)",
   "language": "python",
   "name": "python3"
  },
  "language_info": {
   "codemirror_mode": {
    "name": "ipython",
    "version": 3
   },
   "file_extension": ".py",
   "mimetype": "text/x-python",
   "name": "python",
   "nbconvert_exporter": "python",
   "pygments_lexer": "ipython3",
   "version": "3.11.4"
  }
 },
 "nbformat": 4,
 "nbformat_minor": 5
}
