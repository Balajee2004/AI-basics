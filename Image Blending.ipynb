{
 "cells": [
  {
   "cell_type": "code",
   "execution_count": 1,
   "id": "412c7297",
   "metadata": {},
   "outputs": [],
   "source": [
    "import cv2\n",
    "import numpy as np"
   ]
  },
  {
   "cell_type": "code",
   "execution_count": 2,
   "id": "f9298817",
   "metadata": {},
   "outputs": [],
   "source": [
    "img_1 = cv2.imread(\"C:/Users/MR.H.BALAJEE/Downloads/abcd.jpeg\")\n",
    "img_2 = cv2.imread(\"C:/Users/MR.H.BALAJEE/Downloads/forblend2.jpeg\")"
   ]
  },
  {
   "cell_type": "code",
   "execution_count": 3,
   "id": "98ca1949",
   "metadata": {},
   "outputs": [],
   "source": [
    "img_1_resized = cv2.resize(img_1,(400,400))\n",
    "img_2_resized = cv2.resize(img_2,(400,400))"
   ]
  },
  {
   "cell_type": "code",
   "execution_count": 4,
   "id": "7b243f66",
   "metadata": {},
   "outputs": [],
   "source": [
    "cv2.imshow(\"Picture 1\",img_1_resized)\n",
    "cv2.imshow(\"Picture 2\",img_2_resized)\n",
    "cv2.waitKey(0)\n",
    "cv2.destroyAllWindows()"
   ]
  },
  {
   "cell_type": "code",
   "execution_count": 5,
   "id": "59005a94",
   "metadata": {},
   "outputs": [],
   "source": [
    "#blending\n",
    "im_blending = cv2.addWeighted(img_1_resized,0.6,img_2_resized,0.2,0)"
   ]
  },
  {
   "cell_type": "code",
   "execution_count": 6,
   "id": "6ad5e083",
   "metadata": {},
   "outputs": [],
   "source": [
    "cv2.imshow(\"Picture 1\",img_1_resized)\n",
    "cv2.imshow(\"Picture 2\",img_2_resized)\n",
    "cv2.imshow(\"Blended Picture\",im_blending)\n",
    "cv2.waitKey(0)\n",
    "cv2.destroyAllWindows()"
   ]
  },
  {
   "cell_type": "code",
   "execution_count": 7,
   "id": "82f98524",
   "metadata": {},
   "outputs": [],
   "source": [
    "#image subtraction\n",
    "img_sub = cv2.subtract(img_1_resized,img_2_resized)"
   ]
  },
  {
   "cell_type": "code",
   "execution_count": 8,
   "id": "980ee924",
   "metadata": {},
   "outputs": [],
   "source": [
    "cv2.imshow(\"sub\",img_sub)\n",
    "cv2.waitKey(0)\n",
    "cv2.destroyAllWindows()"
   ]
  },
  {
   "cell_type": "code",
   "execution_count": 9,
   "id": "6a78b69e",
   "metadata": {},
   "outputs": [],
   "source": [
    "AND = cv2.bitwise_and(img_1_resized,img_2_resized)\n",
    "OR = cv2.bitwise_or(img_1_resized,img_2_resized)\n",
    "NOT = cv2.bitwise_not(img_1_resized)\n",
    "XOR = cv2.bitwise_xor(img_1_resized,img_2_resized)"
   ]
  },
  {
   "cell_type": "code",
   "execution_count": 10,
   "id": "39185f1e",
   "metadata": {},
   "outputs": [],
   "source": [
    "cv2.imshow(\"Bitwise_AND\",AND)\n",
    "cv2.imshow(\"Bitwise_OR\",OR)\n",
    "cv2.imshow(\"Bitwise_NOT\",NOT)\n",
    "cv2.imshow(\"Bitwise_XOR\",XOR)\n",
    "cv2.waitKey(0)\n",
    "cv2.destroyAllWindows()"
   ]
  },
  {
   "cell_type": "code",
   "execution_count": 11,
   "id": "d066695e",
   "metadata": {},
   "outputs": [],
   "source": [
    "NOR = cv2.bitwise_not(OR)"
   ]
  },
  {
   "cell_type": "code",
   "execution_count": 12,
   "id": "3abd0f6a",
   "metadata": {},
   "outputs": [],
   "source": [
    "cv2.imshow(\"Test\",NOR)\n",
    "cv2.waitKey(0)\n",
    "cv2.destroyAllWindows()"
   ]
  },
  {
   "cell_type": "code",
   "execution_count": null,
   "id": "3ed73e11",
   "metadata": {},
   "outputs": [],
   "source": [
    "#ROI"
   ]
  }
 ],
 "metadata": {
  "kernelspec": {
   "display_name": "Python 3 (ipykernel)",
   "language": "python",
   "name": "python3"
  },
  "language_info": {
   "codemirror_mode": {
    "name": "ipython",
    "version": 3
   },
   "file_extension": ".py",
   "mimetype": "text/x-python",
   "name": "python",
   "nbconvert_exporter": "python",
   "pygments_lexer": "ipython3",
   "version": "3.11.4"
  }
 },
 "nbformat": 4,
 "nbformat_minor": 5
}
