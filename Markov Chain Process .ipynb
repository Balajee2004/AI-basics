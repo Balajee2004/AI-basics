{
 "cells": [
  {
   "cell_type": "markdown",
   "id": "e1ed8270",
   "metadata": {},
   "source": [
    "Imagine we have Mr.Markov who is a foodie. But he cannot cook all by himself,so he appointed a chef who needs to make sure he serves the best food that kreeps Mr.Markov healthy. The Best part is out Chef is suffering from amnesia. So he has not idea what he cooked earlier in the past. But he remembers what he cooked today...based on this assumption he wants to estimate what will Mr.Markov have for tommorrows lunch. Some information about Mr.Markov's food is **if Mr.Markov had a pizza for lunch today then the probability that he is going to have a pizza tomorrow is 75% and 25% probability that he is going to have vegetables and steak tomorrow. Similarly if Mr.Markov have vegetables and steak for lunch today then he is 60% Sure that he will have the same lunch tomorrow and 40% sure that he will have a pizza..."
   ]
  },
  {
   "cell_type": "markdown",
   "id": "b9116636",
   "metadata": {},
   "source": [
    "### Import Required Libraries"
   ]
  },
  {
   "cell_type": "code",
   "execution_count": 2,
   "id": "8ab0711d",
   "metadata": {},
   "outputs": [],
   "source": [
    "from protopunica import *\n",
    "import numpy as np"
   ]
  },
  {
   "cell_type": "markdown",
   "id": "98de25cc",
   "metadata": {},
   "source": [
    "### Define the Initial Stage"
   ]
  },
  {
   "cell_type": "markdown",
   "id": "b31d6734",
   "metadata": {},
   "source": [
    "we assume that Mr.Markov had a pizza for today's Lunch"
   ]
  },
  {
   "cell_type": "code",
   "execution_count": 3,
   "id": "585a2db1",
   "metadata": {},
   "outputs": [],
   "source": [
    "start = DiscreteDistribution({\"Pizza\" : 1, \"Veg\": 0})"
   ]
  },
  {
   "cell_type": "markdown",
   "id": "0fd29c63",
   "metadata": {},
   "source": [
    "### Define the Transition Matrix"
   ]
  },
  {
   "cell_type": "raw",
   "id": "cd703389",
   "metadata": {},
   "source": [
    "                               Pizza Veggies\n",
    "Transition Matrix(T) = Pizza   0.75  0.4\n",
    "                       Veggies 0.25  0.6"
   ]
  },
  {
   "cell_type": "code",
   "execution_count": 4,
   "id": "8eb7c5c1",
   "metadata": {},
   "outputs": [],
   "source": [
    "Transitions = ConditionalProbabilityTable([\n",
    "    [\"Pizza\",\"Pizza\",0.75],\n",
    "    [\"Pizza\",\"Veg\",0.25],\n",
    "    [\"Veg\",\"Veg\",0.6],\n",
    "    [\"Veg\",\"Pizza\",0.4]\n",
    "],[start])"
   ]
  },
  {
   "cell_type": "markdown",
   "id": "72ccffaf",
   "metadata": {},
   "source": [
    "### Combine the both the Initial State and Transition Matrix to create a Markov Chain Model"
   ]
  },
  {
   "cell_type": "markdown",
   "id": "4784f1db",
   "metadata": {},
   "source": [
    "# S1 = T.S0"
   ]
  },
  {
   "cell_type": "code",
   "execution_count": 5,
   "id": "e8a6b2f1",
   "metadata": {},
   "outputs": [],
   "source": [
    "Model = MarkovChain([start,Transitions])"
   ]
  },
  {
   "cell_type": "markdown",
   "id": "e1a52558",
   "metadata": {},
   "source": [
    "### Lets Create some random set of events from Markov Chain"
   ]
  },
  {
   "cell_type": "code",
   "execution_count": 6,
   "id": "9b0533d0",
   "metadata": {},
   "outputs": [],
   "source": [
    "Random_samples = Model.sample(3)"
   ]
  },
  {
   "cell_type": "code",
   "execution_count": 7,
   "id": "cb6d6d38",
   "metadata": {},
   "outputs": [
    {
     "name": "stdout",
     "output_type": "stream",
     "text": [
      "['Pizza', 'Pizza', 'Veg']\n"
     ]
    }
   ],
   "source": [
    "print(Random_samples)"
   ]
  },
  {
   "cell_type": "markdown",
   "id": "d29639aa",
   "metadata": {},
   "source": [
    "### Find the log Probability for this set of events"
   ]
  },
  {
   "cell_type": "code",
   "execution_count": 8,
   "id": "f1b7d4bf",
   "metadata": {},
   "outputs": [],
   "source": [
    "Log_probability = Model.log_probability(Random_samples)"
   ]
  },
  {
   "cell_type": "code",
   "execution_count": 11,
   "id": "c99d1c82",
   "metadata": {},
   "outputs": [],
   "source": [
    "Probability_of_Occurance = np.exp(Log_probability)"
   ]
  },
  {
   "cell_type": "markdown",
   "id": "c05951b7",
   "metadata": {},
   "source": [
    "### Probability of Occurance"
   ]
  },
  {
   "cell_type": "code",
   "execution_count": 12,
   "id": "3f54b101",
   "metadata": {},
   "outputs": [
    {
     "data": {
      "text/plain": [
       "0.1875"
      ]
     },
     "execution_count": 12,
     "metadata": {},
     "output_type": "execute_result"
    }
   ],
   "source": [
    "Probability_of_Occurance"
   ]
  },
  {
   "cell_type": "markdown",
   "id": "6ea14907",
   "metadata": {},
   "source": [
    "### Define a set of sequence"
   ]
  },
  {
   "cell_type": "markdown",
   "id": "485902c8",
   "metadata": {},
   "source": [
    "what is the probability that this sequence will occur The answer lies in the transition matrix. The answer is the product of the transition probability"
   ]
  },
  {
   "cell_type": "code",
   "execution_count": 13,
   "id": "848bce7d",
   "metadata": {},
   "outputs": [],
   "source": [
    "Log_Probability_Food_Sequence = Model.log_probability([\"Pizza\",\"Veg\",\"Veg\"])"
   ]
  },
  {
   "cell_type": "code",
   "execution_count": 14,
   "id": "15aadf31",
   "metadata": {},
   "outputs": [],
   "source": [
    "Probability_of_Food = np.exp(Log_Probability_Food_Sequence)"
   ]
  },
  {
   "cell_type": "code",
   "execution_count": 15,
   "id": "eb569255",
   "metadata": {},
   "outputs": [
    {
     "name": "stdout",
     "output_type": "stream",
     "text": [
      "0.15\n"
     ]
    }
   ],
   "source": [
    "print(Probability_of_Food)"
   ]
  },
  {
   "cell_type": "code",
   "execution_count": null,
   "id": "b62be68d",
   "metadata": {},
   "outputs": [],
   "source": []
  },
  {
   "cell_type": "code",
   "execution_count": null,
   "id": "244e6725",
   "metadata": {},
   "outputs": [],
   "source": []
  }
 ],
 "metadata": {
  "kernelspec": {
   "display_name": "Python 3 (ipykernel)",
   "language": "python",
   "name": "python3"
  },
  "language_info": {
   "codemirror_mode": {
    "name": "ipython",
    "version": 3
   },
   "file_extension": ".py",
   "mimetype": "text/x-python",
   "name": "python",
   "nbconvert_exporter": "python",
   "pygments_lexer": "ipython3",
   "version": "3.11.4"
  }
 },
 "nbformat": 4,
 "nbformat_minor": 5
}
