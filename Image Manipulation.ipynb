{
 "cells": [
  {
   "cell_type": "code",
   "execution_count": null,
   "id": "d4fac2ec",
   "metadata": {},
   "outputs": [],
   "source": [
    "import cv2\n",
    "import numpy as np"
   ]
  },
  {
   "cell_type": "code",
   "execution_count": null,
   "id": "8e1b4c17",
   "metadata": {},
   "outputs": [],
   "source": [
    "img_1 = cv2.imread(\"C:/Users/MR.H.BALAJEE/Downloads/color.jpeg\")"
   ]
  },
  {
   "cell_type": "code",
   "execution_count": null,
   "id": "5944d3bb",
   "metadata": {},
   "outputs": [],
   "source": [
    "img_1"
   ]
  },
  {
   "cell_type": "code",
   "execution_count": null,
   "id": "16922833",
   "metadata": {},
   "outputs": [],
   "source": [
    "shp = img_1.shape"
   ]
  },
  {
   "cell_type": "code",
   "execution_count": null,
   "id": "056a9409",
   "metadata": {},
   "outputs": [],
   "source": [
    "shp"
   ]
  },
  {
   "cell_type": "code",
   "execution_count": null,
   "id": "4d8cf9dd",
   "metadata": {},
   "outputs": [],
   "source": [
    "siz = img_1.size"
   ]
  },
  {
   "cell_type": "code",
   "execution_count": null,
   "id": "6287d01f",
   "metadata": {},
   "outputs": [],
   "source": [
    "siz"
   ]
  },
  {
   "cell_type": "markdown",
   "id": "5f255dbf",
   "metadata": {},
   "source": [
    "# Image Manipulation"
   ]
  },
  {
   "cell_type": "code",
   "execution_count": null,
   "id": "2ea2fd80",
   "metadata": {},
   "outputs": [],
   "source": [
    "img_1_resized = cv2.resize(img_1,(250,250))"
   ]
  },
  {
   "cell_type": "code",
   "execution_count": null,
   "id": "aadb5ebb",
   "metadata": {
    "scrolled": true
   },
   "outputs": [],
   "source": [
    "img_1_resized"
   ]
  },
  {
   "cell_type": "code",
   "execution_count": null,
   "id": "b3d36d2d",
   "metadata": {},
   "outputs": [],
   "source": [
    "print(img_1_resized.shape)"
   ]
  },
  {
   "cell_type": "code",
   "execution_count": null,
   "id": "3286f7c5",
   "metadata": {},
   "outputs": [],
   "source": [
    "shw_1 = cv2.imshow(\"Picture_1\",img_1)\n",
    "shw_2 = cv2.imshow(\"Picture_2\",img_1_resized)\n",
    "cv2.waitKey(0)\n",
    "cv2.destroyAllWindows()"
   ]
  },
  {
   "cell_type": "code",
   "execution_count": null,
   "id": "0d6eaf7e",
   "metadata": {},
   "outputs": [],
   "source": [
    "colors_availablity = [i for i in dir(cv2) if i.startswith(\"COLOR_HSV\")]"
   ]
  },
  {
   "cell_type": "code",
   "execution_count": null,
   "id": "535f4cb5",
   "metadata": {},
   "outputs": [],
   "source": [
    "print(colors_availablity)"
   ]
  },
  {
   "cell_type": "code",
   "execution_count": null,
   "id": "e1faec27",
   "metadata": {},
   "outputs": [],
   "source": [
    "img_col_con_1 = cv2.cvtColor(img_1,cv2.COLOR_BGR2HSV))"
   ]
  },
  {
   "cell_type": "code",
   "execution_count": null,
   "id": "408cefe2",
   "metadata": {},
   "outputs": [],
   "source": [
    "cv2.imshow(\"Conversion_1\",img_col_con_1)\n",
    "cv2.waitKey(0)\n",
    "cv2.destroyAllWindows()"
   ]
  },
  {
   "cell_type": "code",
   "execution_count": null,
   "id": "849375bf",
   "metadata": {},
   "outputs": [],
   "source": []
  }
 ],
 "metadata": {
  "kernelspec": {
   "display_name": "Python 3 (ipykernel)",
   "language": "python",
   "name": "python3"
  },
  "language_info": {
   "codemirror_mode": {
    "name": "ipython",
    "version": 3
   },
   "file_extension": ".py",
   "mimetype": "text/x-python",
   "name": "python",
   "nbconvert_exporter": "python",
   "pygments_lexer": "ipython3",
   "version": "3.11.4"
  }
 },
 "nbformat": 4,
 "nbformat_minor": 5
}
