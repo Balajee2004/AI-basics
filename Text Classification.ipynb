{
 "cells": [
  {
   "cell_type": "markdown",
   "id": "b37f982e",
   "metadata": {},
   "source": [
    "# Importing Libraries"
   ]
  },
  {
   "cell_type": "code",
   "execution_count": 12,
   "id": "53efbfec",
   "metadata": {},
   "outputs": [],
   "source": [
    "from sklearn.feature_extraction.text import TfidfVectorizer\n",
    "import pandas as pd"
   ]
  },
  {
   "cell_type": "markdown",
   "id": "b504a057",
   "metadata": {},
   "source": [
    "# Sample Sentences"
   ]
  },
  {
   "cell_type": "code",
   "execution_count": 13,
   "id": "6122ec7c",
   "metadata": {},
   "outputs": [],
   "source": [
    "sentences = [\n",
    "    \"I love programming in Python.\",\n",
    "    \"JavaScript is versatile for web development.\",\n",
    "    \"Machine learning is fascinating.\",\n",
    "    \"I enjoy watching movies and reading books.\",\n",
    "    \"Python has many libraries for data science.\"\n",
    "]"
   ]
  },
  {
   "cell_type": "markdown",
   "id": "108d379f",
   "metadata": {},
   "source": [
    "# Initializing TF-IDF Vectorizer"
   ]
  },
  {
   "cell_type": "code",
   "execution_count": 14,
   "id": "63842a2c",
   "metadata": {},
   "outputs": [],
   "source": [
    "vectorizer = TfidfVectorizer()"
   ]
  },
  {
   "cell_type": "markdown",
   "id": "74a3add6",
   "metadata": {},
   "source": [
    "# Fit and transforming the sentences"
   ]
  },
  {
   "cell_type": "code",
   "execution_count": 15,
   "id": "1e4a7f88",
   "metadata": {},
   "outputs": [],
   "source": [
    "tfidf_matrix = vectorizer.fit_transform(sentences)"
   ]
  },
  {
   "cell_type": "markdown",
   "id": "87c93e0d",
   "metadata": {},
   "source": [
    "# Getting Feature Names"
   ]
  },
  {
   "cell_type": "code",
   "execution_count": 17,
   "id": "58e7df0a",
   "metadata": {},
   "outputs": [],
   "source": [
    "feature_names = vectorizer.get_feature_names_out()"
   ]
  },
  {
   "cell_type": "markdown",
   "id": "773b466f",
   "metadata": {},
   "source": [
    "# Creating DataFrame"
   ]
  },
  {
   "cell_type": "code",
   "execution_count": 18,
   "id": "df5a449c",
   "metadata": {},
   "outputs": [],
   "source": [
    "tfidf_df = pd.DataFrame(tfidf_matrix.T.toarray(), index=feature_names, columns=[f'Sentence {i+1}' for i in range(len(sentences))])"
   ]
  },
  {
   "cell_type": "markdown",
   "id": "b5b60cc4",
   "metadata": {},
   "source": [
    "# Printing the DataFrame to display the TF-IDF weights for each word in each sentence"
   ]
  },
  {
   "cell_type": "code",
   "execution_count": 19,
   "id": "7875636c",
   "metadata": {},
   "outputs": [
    {
     "name": "stdout",
     "output_type": "stream",
     "text": [
      "             Sentence 1  Sentence 2  Sentence 3  Sentence 4  Sentence 5\n",
      "and            0.000000    0.000000    0.000000    0.408248    0.000000\n",
      "books          0.000000    0.000000    0.000000    0.408248    0.000000\n",
      "data           0.000000    0.000000    0.000000    0.000000    0.398352\n",
      "development    0.000000    0.434297    0.000000    0.000000    0.000000\n",
      "enjoy          0.000000    0.000000    0.000000    0.408248    0.000000\n",
      "fascinating    0.000000    0.000000    0.523358    0.000000    0.000000\n",
      "for            0.000000    0.350388    0.000000    0.000000    0.321388\n",
      "has            0.000000    0.000000    0.000000    0.000000    0.398352\n",
      "in             0.523358    0.000000    0.000000    0.000000    0.000000\n",
      "is             0.000000    0.350388    0.422242    0.000000    0.000000\n",
      "javascript     0.000000    0.434297    0.000000    0.000000    0.000000\n",
      "learning       0.000000    0.000000    0.523358    0.000000    0.000000\n",
      "libraries      0.000000    0.000000    0.000000    0.000000    0.398352\n",
      "love           0.523358    0.000000    0.000000    0.000000    0.000000\n",
      "machine        0.000000    0.000000    0.523358    0.000000    0.000000\n",
      "many           0.000000    0.000000    0.000000    0.000000    0.398352\n",
      "movies         0.000000    0.000000    0.000000    0.408248    0.000000\n",
      "programming    0.523358    0.000000    0.000000    0.000000    0.000000\n",
      "python         0.422242    0.000000    0.000000    0.000000    0.321388\n",
      "reading        0.000000    0.000000    0.000000    0.408248    0.000000\n",
      "science        0.000000    0.000000    0.000000    0.000000    0.398352\n",
      "versatile      0.000000    0.434297    0.000000    0.000000    0.000000\n",
      "watching       0.000000    0.000000    0.000000    0.408248    0.000000\n",
      "web            0.000000    0.434297    0.000000    0.000000    0.000000\n"
     ]
    }
   ],
   "source": [
    "print(tfidf_df)"
   ]
  },
  {
   "cell_type": "code",
   "execution_count": null,
   "id": "1e57dc20",
   "metadata": {},
   "outputs": [],
   "source": []
  }
 ],
 "metadata": {
  "kernelspec": {
   "display_name": "Python 3 (ipykernel)",
   "language": "python",
   "name": "python3"
  },
  "language_info": {
   "codemirror_mode": {
    "name": "ipython",
    "version": 3
   },
   "file_extension": ".py",
   "mimetype": "text/x-python",
   "name": "python",
   "nbconvert_exporter": "python",
   "pygments_lexer": "ipython3",
   "version": "3.11.4"
  }
 },
 "nbformat": 4,
 "nbformat_minor": 5
}
