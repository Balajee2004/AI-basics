{
 "cells": [
  {
   "cell_type": "markdown",
   "id": "dfc6e215",
   "metadata": {},
   "source": [
    "# Importing Libraries"
   ]
  },
  {
   "cell_type": "code",
   "execution_count": 12,
   "id": "789a1940",
   "metadata": {},
   "outputs": [],
   "source": [
    "from sklearn.feature_extraction.text import TfidfVectorizer\n",
    "import pandas as pd"
   ]
  },
  {
   "cell_type": "markdown",
   "id": "3a5ee541",
   "metadata": {},
   "source": [
    "# Sample Sentences"
   ]
  },
  {
   "cell_type": "code",
   "execution_count": 13,
   "id": "f852ac8e",
   "metadata": {},
   "outputs": [],
   "source": [
    "sentences = [\n",
    "    \"I love programming in Python.\",\n",
    "    \"JavaScript is versatile for web development.\",\n",
    "    \"Machine learning is fascinating.\",\n",
    "    \"I enjoy watching movies and reading books.\",\n",
    "    \"Python has many libraries for data science.\"\n",
    "]"
   ]
  },
  {
   "cell_type": "markdown",
   "id": "8443fae7",
   "metadata": {},
   "source": [
    "# Initializing TF-IDF Vectorizer"
   ]
  },
  {
   "cell_type": "code",
   "execution_count": 14,
   "id": "c31e2e10",
   "metadata": {},
   "outputs": [],
   "source": [
    "vectorizer = TfidfVectorizer()"
   ]
  },
  {
   "cell_type": "markdown",
   "id": "3af7c074",
   "metadata": {},
   "source": [
    "# Fit and transforming the sentences"
   ]
  },
  {
   "cell_type": "code",
   "execution_count": 15,
   "id": "fb22efaa",
   "metadata": {},
   "outputs": [],
   "source": [
    "tfidf_matrix = vectorizer.fit_transform(sentences)"
   ]
  },
  {
   "cell_type": "markdown",
   "id": "27909065",
   "metadata": {},
   "source": [
    "# Getting Feature Names"
   ]
  },
  {
   "cell_type": "code",
   "execution_count": 17,
   "id": "e34b8e15",
   "metadata": {},
   "outputs": [],
   "source": [
    "feature_names = vectorizer.get_feature_names_out()"
   ]
  },
  {
   "cell_type": "markdown",
   "id": "cbe7a5a3",
   "metadata": {},
   "source": [
    "# Creating DataFrame"
   ]
  },
  {
   "cell_type": "code",
   "execution_count": 18,
   "id": "4f0f48bc",
   "metadata": {},
   "outputs": [],
   "source": [
    "tfidf_df = pd.DataFrame(tfidf_matrix.T.toarray(), index=feature_names, columns=[f'Sentence {i+1}' for i in range(len(sentences))])"
   ]
  },
  {
   "cell_type": "markdown",
   "id": "7d4d2ce2",
   "metadata": {},
   "source": [
    "# Printing the DataFrame to display the TF-IDF weights for each word in each sentence"
   ]
  },
  {
   "cell_type": "code",
   "execution_count": null,
   "id": "2c6d0b14",
   "metadata": {},
   "outputs": [],
   "source": []
  }
 ],
 "metadata": {
  "kernelspec": {
   "display_name": "Python 3 (ipykernel)",
   "language": "python",
   "name": "python3"
  },
  "language_info": {
   "codemirror_mode": {
    "name": "ipython",
    "version": 3
   },
   "file_extension": ".py",
   "mimetype": "text/x-python",
   "name": "python",
   "nbconvert_exporter": "python",
   "pygments_lexer": "ipython3",
   "version": "3.11.4"
  }
 },
 "nbformat": 4,
 "nbformat_minor": 5
}
