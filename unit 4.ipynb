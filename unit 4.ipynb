{
 "cells": [
  {
   "cell_type": "markdown",
   "id": "83adbe48",
   "metadata": {},
   "source": [
    "# Feature Extraction an Feature Detection in Image Processing"
   ]
  },
  {
   "cell_type": "code",
   "execution_count": 1,
   "id": "46a9caad",
   "metadata": {},
   "outputs": [],
   "source": [
    "import cv2\n",
    "import numpy as np"
   ]
  },
  {
   "cell_type": "code",
   "execution_count": 4,
   "id": "be60a389",
   "metadata": {},
   "outputs": [],
   "source": [
    "img = cv2.imread(\"C:/Users/MR.H.BALAJEE/Downloads/german shepherd.jpeg\")"
   ]
  },
  {
   "cell_type": "markdown",
   "id": "04cef4f1",
   "metadata": {},
   "source": [
    "# Canny Edge"
   ]
  },
  {
   "cell_type": "code",
   "execution_count": 6,
   "id": "e0475377",
   "metadata": {},
   "outputs": [],
   "source": [
    "canny = cv2.Canny(img,40,200)"
   ]
  },
  {
   "cell_type": "markdown",
   "id": "af50fc44",
   "metadata": {},
   "source": [
    "# Display"
   ]
  },
  {
   "cell_type": "code",
   "execution_count": 7,
   "id": "215a16ef",
   "metadata": {},
   "outputs": [],
   "source": [
    "cv2.imshow(\"Original\",img)\n",
    "cv2.imshow(\"Canny\",canny)\n",
    "cv2.waitKey()\n",
    "cv2.destroyAllWindows()"
   ]
  },
  {
   "cell_type": "code",
   "execution_count": null,
   "id": "a1e451a0",
   "metadata": {},
   "outputs": [],
   "source": []
  }
 ],
 "metadata": {
  "kernelspec": {
   "display_name": "Python 3 (ipykernel)",
   "language": "python",
   "name": "python3"
  },
  "language_info": {
   "codemirror_mode": {
    "name": "ipython",
    "version": 3
   },
   "file_extension": ".py",
   "mimetype": "text/x-python",
   "name": "python",
   "nbconvert_exporter": "python",
   "pygments_lexer": "ipython3",
   "version": "3.11.4"
  }
 },
 "nbformat": 4,
 "nbformat_minor": 5
}
