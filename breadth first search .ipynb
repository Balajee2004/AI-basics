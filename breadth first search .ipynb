{
 "cells": [
  {
   "cell_type": "code",
   "execution_count": 1,
   "id": "255fe4d1",
   "metadata": {},
   "outputs": [],
   "source": [
    "graph = {'pkc' : ['stadium','parking','tree'],\n",
    "        'stadium' : ['main block'],\n",
    "        'parking' : ['junction'],\n",
    "        'junction' : ['entrance','main block'],\n",
    "        'entrance' : ['junction'],\n",
    "        'main block' : ['junction'],\n",
    "        'tree' : ['pkc']\n",
    "         }"
   ]
  },
  {
   "cell_type": "code",
   "execution_count": 2,
   "id": "d4280c2b",
   "metadata": {},
   "outputs": [],
   "source": [
    "from collections import deque"
   ]
  },
  {
   "cell_type": "code",
   "execution_count": 3,
   "id": "b7e400a9",
   "metadata": {},
   "outputs": [],
   "source": [
    "def BFS(graph,start,goal):\n",
    "    visited = []\n",
    "    queue = deque([start])\n",
    "    while queue:\n",
    "        node = queue.popleft()\n",
    "        if node not in visited:\n",
    "            visited.append(node)\n",
    "            print(\"I have visited : \",node)\n",
    "            neighbournode = graph[node]\n",
    "            if node == goal:\n",
    "                print(\"I have reached the goal, the path I traveled is \",visited)\n",
    "                \n",
    "            for neighbours in neighbournode:\n",
    "                queue.append(neighbours)"
   ]
  },
  {
   "cell_type": "code",
   "execution_count": 4,
   "id": "6ac0890d",
   "metadata": {},
   "outputs": [
    {
     "name": "stdout",
     "output_type": "stream",
     "text": [
      "I have visited :  pkc\n",
      "I have visited :  stadium\n",
      "I have visited :  parking\n",
      "I have visited :  tree\n",
      "I have reached the goal, the path I traveled is  ['pkc', 'stadium', 'parking', 'tree']\n",
      "I have visited :  main block\n",
      "I have visited :  junction\n",
      "I have visited :  entrance\n"
     ]
    }
   ],
   "source": [
    "BFS(graph,'pkc','tree')"
   ]
  },
  {
   "cell_type": "code",
   "execution_count": null,
   "id": "43b91d0b",
   "metadata": {},
   "outputs": [],
   "source": []
  },
  {
   "cell_type": "code",
   "execution_count": null,
   "id": "eb22ad30",
   "metadata": {},
   "outputs": [],
   "source": []
  }
 ],
 "metadata": {
  "kernelspec": {
   "display_name": "Python 3 (ipykernel)",
   "language": "python",
   "name": "python3"
  },
  "language_info": {
   "codemirror_mode": {
    "name": "ipython",
    "version": 3
   },
   "file_extension": ".py",
   "mimetype": "text/x-python",
   "name": "python",
   "nbconvert_exporter": "python",
   "pygments_lexer": "ipython3",
   "version": "3.11.4"
  }
 },
 "nbformat": 4,
 "nbformat_minor": 5
}
