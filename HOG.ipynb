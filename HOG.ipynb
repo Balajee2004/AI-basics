{
 "cells": [
  {
   "cell_type": "markdown",
   "id": "8c3f5af4",
   "metadata": {},
   "source": [
    "# Install imutils"
   ]
  },
  {
   "cell_type": "code",
   "execution_count": 1,
   "id": "56b8e47a",
   "metadata": {},
   "outputs": [
    {
     "name": "stdout",
     "output_type": "stream",
     "text": [
      "Collecting imutils\n",
      "  Downloading imutils-0.5.4.tar.gz (17 kB)\n",
      "  Preparing metadata (setup.py): started\n",
      "  Preparing metadata (setup.py): finished with status 'done'\n",
      "Building wheels for collected packages: imutils\n",
      "  Building wheel for imutils (setup.py): started\n",
      "  Building wheel for imutils (setup.py): finished with status 'done'\n",
      "  Created wheel for imutils: filename=imutils-0.5.4-py3-none-any.whl size=25854 sha256=a6b203e1c955d3198e3b49b6a94897d2ec44900bbd5de525f0992d4696784f53\n",
      "  Stored in directory: c:\\users\\mr.h.balajee\\appdata\\local\\pip\\cache\\wheels\\31\\d0\\2c\\87ce38f6052879e5b7b18f0f8b4a10ad2a9d210e908d449f16\n",
      "Successfully built imutils\n",
      "Installing collected packages: imutils\n",
      "Successfully installed imutils-0.5.4\n",
      "Note: you may need to restart the kernel to use updated packages.\n"
     ]
    }
   ],
   "source": [
    "pip install imutils"
   ]
  },
  {
   "cell_type": "code",
   "execution_count": 1,
   "id": "fe36b943",
   "metadata": {},
   "outputs": [],
   "source": [
    "import cv2\n",
    "import imutils"
   ]
  },
  {
   "cell_type": "markdown",
   "id": "0199f228",
   "metadata": {},
   "source": [
    "# Initializing the HOG Person Detector"
   ]
  },
  {
   "cell_type": "code",
   "execution_count": 4,
   "id": "a1ca2b3d",
   "metadata": {},
   "outputs": [
    {
     "data": {
      "text/plain": [
       "< cv2.HOGDescriptor 00000201FE609A90>"
      ]
     },
     "execution_count": 4,
     "metadata": {},
     "output_type": "execute_result"
    }
   ],
   "source": [
    "hog = cv2.HOGDescriptor()\n",
    "hog.setSVMDetector(cv2.HOGDescriptor_getDefaultPeopleDetector())\n",
    "hog"
   ]
  },
  {
   "cell_type": "markdown",
   "id": "7389f165",
   "metadata": {},
   "source": [
    "# Shaping the Image"
   ]
  },
  {
   "cell_type": "code",
   "execution_count": 5,
   "id": "1e5537fc",
   "metadata": {},
   "outputs": [
    {
     "data": {
      "text/plain": [
       "(1333, 2000, 3)"
      ]
     },
     "execution_count": 5,
     "metadata": {},
     "output_type": "execute_result"
    }
   ],
   "source": [
    "image = cv2.imread(\"C:/Users/MR.H.BALAJEE/Downloads/Peoples.jpg\")\n",
    "image.shape"
   ]
  },
  {
   "cell_type": "markdown",
   "id": "339a95a7",
   "metadata": {},
   "source": [
    "# Resizing Image"
   ]
  },
  {
   "cell_type": "code",
   "execution_count": 6,
   "id": "c0ae51b6",
   "metadata": {},
   "outputs": [
    {
     "data": {
      "text/plain": [
       "(266, 400, 3)"
      ]
     },
     "execution_count": 6,
     "metadata": {},
     "output_type": "execute_result"
    }
   ],
   "source": [
    "image = imutils.resize(image,width=min(400, image.shape[1]))\n",
    "image.shape"
   ]
  },
  {
   "cell_type": "code",
   "execution_count": 11,
   "id": "1f60742a",
   "metadata": {},
   "outputs": [
    {
     "data": {
      "text/plain": [
       "array([[198,  90, 118, 176],\n",
       "       [ 53,  83,  64, 128],\n",
       "       [366,  88,  34, 128],\n",
       "       [133,  96,  64, 128]])"
      ]
     },
     "execution_count": 11,
     "metadata": {},
     "output_type": "execute_result"
    }
   ],
   "source": [
    "(regions ,img) = hog.detectMultiScale(image, winStride=(1, 1),padding = (40, 40),scale = 1.85)\n",
    "regions"
   ]
  },
  {
   "cell_type": "markdown",
   "id": "1d481a9f",
   "metadata": {},
   "source": [
    "# Drawing the Regions of the Image"
   ]
  },
  {
   "cell_type": "code",
   "execution_count": 12,
   "id": "73fc667d",
   "metadata": {},
   "outputs": [],
   "source": [
    "for(x, y, w, h) in regions:\n",
    "    cv2.rectangle(image, (x,y),(x + w, y + h),(0, 255, 0), 3)"
   ]
  },
  {
   "cell_type": "markdown",
   "id": "0f079792",
   "metadata": {},
   "source": [
    "# Showing the Output Image"
   ]
  },
  {
   "cell_type": "code",
   "execution_count": 15,
   "id": "00bf559a",
   "metadata": {},
   "outputs": [],
   "source": [
    "cv2.imshow(\"Image\",image)\n",
    "cv2.waitKey(0)\n",
    "cv2.destroyAllWindows()"
   ]
  },
  {
   "cell_type": "code",
   "execution_count": null,
   "id": "b94b5ef1",
   "metadata": {},
   "outputs": [],
   "source": []
  }
 ],
 "metadata": {
  "kernelspec": {
   "display_name": "Python 3 (ipykernel)",
   "language": "python",
   "name": "python3"
  },
  "language_info": {
   "codemirror_mode": {
    "name": "ipython",
    "version": 3
   },
   "file_extension": ".py",
   "mimetype": "text/x-python",
   "name": "python",
   "nbconvert_exporter": "python",
   "pygments_lexer": "ipython3",
   "version": "3.11.4"
  }
 },
 "nbformat": 4,
 "nbformat_minor": 5
}
