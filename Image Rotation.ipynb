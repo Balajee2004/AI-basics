{
 "cells": [
  {
   "cell_type": "markdown",
   "id": "3b6fcab1",
   "metadata": {},
   "source": [
    "# Image Rotation and Translation "
   ]
  },
  {
   "cell_type": "code",
   "execution_count": 1,
   "id": "b05bc4aa",
   "metadata": {},
   "outputs": [],
   "source": [
    "import cv2\n",
    "import numpy as np"
   ]
  },
  {
   "cell_type": "code",
   "execution_count": 2,
   "id": "608dd4b2",
   "metadata": {},
   "outputs": [],
   "source": [
    "img_1 = cv2.imread(\"C:/Users/MR.H.BALAJEE/Downloads/Dalmatian puppy.jpg\")"
   ]
  },
  {
   "cell_type": "code",
   "execution_count": 3,
   "id": "d69f6b8f",
   "metadata": {},
   "outputs": [
    {
     "name": "stdout",
     "output_type": "stream",
     "text": [
      "(250, 334, 3)\n"
     ]
    }
   ],
   "source": [
    "shp = img_1.shape\n",
    "print(shp)"
   ]
  },
  {
   "cell_type": "code",
   "execution_count": 4,
   "id": "db77f3f3",
   "metadata": {},
   "outputs": [
    {
     "name": "stdout",
     "output_type": "stream",
     "text": [
      "250\n",
      "334\n"
     ]
    }
   ],
   "source": [
    "height,width = img_1.shape[:2]\n",
    "print(height)\n",
    "print(width)"
   ]
  },
  {
   "cell_type": "code",
   "execution_count": 5,
   "id": "cdd400cd",
   "metadata": {},
   "outputs": [
    {
     "data": {
      "text/plain": [
       "(125.0, 167.0)"
      ]
     },
     "execution_count": 5,
     "metadata": {},
     "output_type": "execute_result"
    }
   ],
   "source": [
    "centre = (height/2,width/2)\n",
    "centre"
   ]
  },
  {
   "cell_type": "code",
   "execution_count": 60,
   "id": "80be4b55",
   "metadata": {},
   "outputs": [],
   "source": [
    "rotation_matrix = cv2.getRotationMatrix2D(center = centre,angle = 180,scale = 0.5)"
   ]
  },
  {
   "cell_type": "code",
   "execution_count": 61,
   "id": "c411565e",
   "metadata": {},
   "outputs": [
    {
     "name": "stdout",
     "output_type": "stream",
     "text": [
      "[[-5.000000e-01  6.123234e-17  1.875000e+02]\n",
      " [-6.123234e-17 -5.000000e-01  2.505000e+02]]\n"
     ]
    }
   ],
   "source": [
    "print(rotation_matrix)"
   ]
  },
  {
   "cell_type": "code",
   "execution_count": 62,
   "id": "d15a1228",
   "metadata": {},
   "outputs": [],
   "source": [
    "rotated_image = cv2.warpAffine(src = img_1, M = rotation_matrix, dsize = (width, height))"
   ]
  },
  {
   "cell_type": "code",
   "execution_count": 63,
   "id": "2af9efc2",
   "metadata": {},
   "outputs": [],
   "source": [
    "cv2.imshow(\"Original Image\",img_1)\n",
    "cv2.waitKey(0)\n",
    "cv2.imshow(\"Rotated Image\",rotated_image)\n",
    "cv2.waitKey(0)\n",
    "cv2.destroyAllWindows()"
   ]
  },
  {
   "cell_type": "markdown",
   "id": "612a1b07",
   "metadata": {},
   "source": [
    "# Translation Matrix"
   ]
  },
  {
   "cell_type": "code",
   "execution_count": 64,
   "id": "eba7fafe",
   "metadata": {},
   "outputs": [
    {
     "data": {
      "text/plain": [
       "(167.0, 125.0)"
      ]
     },
     "execution_count": 64,
     "metadata": {},
     "output_type": "execute_result"
    }
   ],
   "source": [
    "tx,ty = width/2,height/2\n",
    "tx,ty"
   ]
  },
  {
   "cell_type": "code",
   "execution_count": 66,
   "id": "fffb371f",
   "metadata": {},
   "outputs": [],
   "source": [
    "Translation_Matrix = np.array([[1,0,tx],[0,1,ty]])"
   ]
  },
  {
   "cell_type": "code",
   "execution_count": 67,
   "id": "6de3081d",
   "metadata": {},
   "outputs": [
    {
     "data": {
      "text/plain": [
       "array([[  1.,   0., 167.],\n",
       "       [  0.,   1., 125.]])"
      ]
     },
     "execution_count": 67,
     "metadata": {},
     "output_type": "execute_result"
    }
   ],
   "source": [
    "Translation_Matrix"
   ]
  },
  {
   "cell_type": "code",
   "execution_count": 68,
   "id": "9e2756cd",
   "metadata": {},
   "outputs": [],
   "source": [
    "Translated_Image = cv2.warpAffine(src = img_1, M = Translation_Matrix, dsize = (width, height))"
   ]
  },
  {
   "cell_type": "code",
   "execution_count": 70,
   "id": "cdea51b5",
   "metadata": {},
   "outputs": [],
   "source": [
    "cv2.imshow(\"Original Image\",img_1)\n",
    "cv2.waitKey(0)\n",
    "cv2.imshow(\"Translated Image\",Translated_Image)\n",
    "cv2.waitKey(0)\n",
    "cv2.destroyAllWindows()"
   ]
  },
  {
   "cell_type": "code",
   "execution_count": null,
   "id": "6430ee99",
   "metadata": {},
   "outputs": [],
   "source": []
  }
 ],
 "metadata": {
  "kernelspec": {
   "display_name": "Python 3 (ipykernel)",
   "language": "python",
   "name": "python3"
  },
  "language_info": {
   "codemirror_mode": {
    "name": "ipython",
    "version": 3
   },
   "file_extension": ".py",
   "mimetype": "text/x-python",
   "name": "python",
   "nbconvert_exporter": "python",
   "pygments_lexer": "ipython3",
   "version": "3.11.4"
  }
 },
 "nbformat": 4,
 "nbformat_minor": 5
}
