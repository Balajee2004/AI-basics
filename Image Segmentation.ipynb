{
 "cells": [
  {
   "cell_type": "markdown",
   "id": "29d8de59",
   "metadata": {},
   "source": [
    "# K-Mean Clustering"
   ]
  },
  {
   "cell_type": "markdown",
   "id": "852afbbc",
   "metadata": {},
   "source": [
    "# Importing Libraries"
   ]
  },
  {
   "cell_type": "code",
   "execution_count": 1,
   "id": "76089887",
   "metadata": {},
   "outputs": [],
   "source": [
    "import cv2\n",
    "import numpy as np"
   ]
  },
  {
   "cell_type": "markdown",
   "id": "26e606df",
   "metadata": {},
   "source": [
    "# Reading An Image"
   ]
  },
  {
   "cell_type": "code",
   "execution_count": 2,
   "id": "9938933f",
   "metadata": {},
   "outputs": [
    {
     "data": {
      "text/plain": [
       "array([[[114, 211, 161],\n",
       "        [114, 211, 161],\n",
       "        [114, 211, 161],\n",
       "        ...,\n",
       "        [123, 222, 166],\n",
       "        [123, 222, 166],\n",
       "        [123, 222, 166]],\n",
       "\n",
       "       [[114, 211, 161],\n",
       "        [114, 211, 161],\n",
       "        [114, 211, 161],\n",
       "        ...,\n",
       "        [124, 223, 167],\n",
       "        [124, 223, 167],\n",
       "        [124, 223, 167]],\n",
       "\n",
       "       [[114, 211, 161],\n",
       "        [114, 211, 161],\n",
       "        [114, 211, 161],\n",
       "        ...,\n",
       "        [125, 224, 168],\n",
       "        [125, 224, 168],\n",
       "        [125, 224, 168]],\n",
       "\n",
       "       ...,\n",
       "\n",
       "       [[ 59, 179, 125],\n",
       "        [ 60, 180, 126],\n",
       "        [ 64, 184, 130],\n",
       "        ...,\n",
       "        [ 58, 169, 117],\n",
       "        [ 51, 162, 110],\n",
       "        [ 34, 145,  93]],\n",
       "\n",
       "       [[ 57, 177, 123],\n",
       "        [ 58, 178, 124],\n",
       "        [ 61, 181, 127],\n",
       "        ...,\n",
       "        [ 91, 202, 150],\n",
       "        [ 77, 188, 136],\n",
       "        [ 49, 160, 108]],\n",
       "\n",
       "       [[ 63, 183, 129],\n",
       "        [ 63, 183, 129],\n",
       "        [ 64, 184, 130],\n",
       "        ...,\n",
       "        [102, 213, 161],\n",
       "        [ 83, 194, 142],\n",
       "        [ 48, 159, 107]]], dtype=uint8)"
      ]
     },
     "execution_count": 2,
     "metadata": {},
     "output_type": "execute_result"
    }
   ],
   "source": [
    "img = cv2.imread(\"C:/Users/MR.H.BALAJEE/Downloads/german shepherd.jpeg\")\n",
    "img"
   ]
  },
  {
   "cell_type": "markdown",
   "id": "8e79aa86",
   "metadata": {},
   "source": [
    "# GRB Conversion"
   ]
  },
  {
   "cell_type": "code",
   "execution_count": 3,
   "id": "4c7b6cf9",
   "metadata": {},
   "outputs": [
    {
     "data": {
      "text/plain": [
       "array([[[161, 211, 114],\n",
       "        [161, 211, 114],\n",
       "        [161, 211, 114],\n",
       "        ...,\n",
       "        [166, 222, 123],\n",
       "        [166, 222, 123],\n",
       "        [166, 222, 123]],\n",
       "\n",
       "       [[161, 211, 114],\n",
       "        [161, 211, 114],\n",
       "        [161, 211, 114],\n",
       "        ...,\n",
       "        [167, 223, 124],\n",
       "        [167, 223, 124],\n",
       "        [167, 223, 124]],\n",
       "\n",
       "       [[161, 211, 114],\n",
       "        [161, 211, 114],\n",
       "        [161, 211, 114],\n",
       "        ...,\n",
       "        [168, 224, 125],\n",
       "        [168, 224, 125],\n",
       "        [168, 224, 125]],\n",
       "\n",
       "       ...,\n",
       "\n",
       "       [[125, 179,  59],\n",
       "        [126, 180,  60],\n",
       "        [130, 184,  64],\n",
       "        ...,\n",
       "        [117, 169,  58],\n",
       "        [110, 162,  51],\n",
       "        [ 93, 145,  34]],\n",
       "\n",
       "       [[123, 177,  57],\n",
       "        [124, 178,  58],\n",
       "        [127, 181,  61],\n",
       "        ...,\n",
       "        [150, 202,  91],\n",
       "        [136, 188,  77],\n",
       "        [108, 160,  49]],\n",
       "\n",
       "       [[129, 183,  63],\n",
       "        [129, 183,  63],\n",
       "        [130, 184,  64],\n",
       "        ...,\n",
       "        [161, 213, 102],\n",
       "        [142, 194,  83],\n",
       "        [107, 159,  48]]], dtype=uint8)"
      ]
     },
     "execution_count": 3,
     "metadata": {},
     "output_type": "execute_result"
    }
   ],
   "source": [
    "imgrgb = cv2.cvtColor(img,cv2.COLOR_BGR2RGB)\n",
    "imgrgb"
   ]
  },
  {
   "cell_type": "markdown",
   "id": "767400aa",
   "metadata": {},
   "source": [
    "# Reshape"
   ]
  },
  {
   "cell_type": "code",
   "execution_count": 4,
   "id": "89d2ab14",
   "metadata": {},
   "outputs": [
    {
     "data": {
      "text/plain": [
       "array([[161, 211, 114],\n",
       "       [161, 211, 114],\n",
       "       [161, 211, 114],\n",
       "       ...,\n",
       "       [161, 213, 102],\n",
       "       [142, 194,  83],\n",
       "       [107, 159,  48]], dtype=uint8)"
      ]
     },
     "execution_count": 4,
     "metadata": {},
     "output_type": "execute_result"
    }
   ],
   "source": [
    "vec = imgrgb.reshape((-1,3))\n",
    "vec"
   ]
  },
  {
   "cell_type": "markdown",
   "id": "dcc1f680",
   "metadata": {},
   "source": [
    "# Float Conversion"
   ]
  },
  {
   "cell_type": "code",
   "execution_count": 5,
   "id": "e4f355af",
   "metadata": {},
   "outputs": [
    {
     "data": {
      "text/plain": [
       "array([[161., 211., 114.],\n",
       "       [161., 211., 114.],\n",
       "       [161., 211., 114.],\n",
       "       ...,\n",
       "       [161., 213., 102.],\n",
       "       [142., 194.,  83.],\n",
       "       [107., 159.,  48.]], dtype=float32)"
      ]
     },
     "execution_count": 5,
     "metadata": {},
     "output_type": "execute_result"
    }
   ],
   "source": [
    "vec = np.float32(vec)\n",
    "vec"
   ]
  },
  {
   "cell_type": "markdown",
   "id": "ff01761d",
   "metadata": {},
   "source": [
    "# Iteration Termination Criteria"
   ]
  },
  {
   "cell_type": "code",
   "execution_count": 6,
   "id": "e86fb24d",
   "metadata": {},
   "outputs": [
    {
     "data": {
      "text/plain": [
       "(3, 100, 1)"
      ]
     },
     "execution_count": 6,
     "metadata": {},
     "output_type": "execute_result"
    }
   ],
   "source": [
    "criteria = (cv2.TERM_CRITERIA_EPS + cv2.TERM_CRITERIA_MAX_ITER,100,1)\n",
    "criteria"
   ]
  },
  {
   "cell_type": "markdown",
   "id": "67fcfbd5",
   "metadata": {},
   "source": [
    "# Cluster Conditions"
   ]
  },
  {
   "cell_type": "code",
   "execution_count": 7,
   "id": "7cc0ca1f",
   "metadata": {},
   "outputs": [],
   "source": [
    "k = 3\n",
    "attempts = 100"
   ]
  },
  {
   "cell_type": "markdown",
   "id": "03f1aa49",
   "metadata": {},
   "source": [
    "# K-Means Clustering "
   ]
  },
  {
   "cell_type": "code",
   "execution_count": 8,
   "id": "57a84ea9",
   "metadata": {},
   "outputs": [],
   "source": [
    "compactness,label,center = cv2.kmeans(vec,k,None,criteria,attempts,cv2.KMEANS_PP_CENTERS)"
   ]
  },
  {
   "cell_type": "code",
   "execution_count": 9,
   "id": "1a74a88b",
   "metadata": {},
   "outputs": [
    {
     "data": {
      "text/plain": [
       "89411920.3586955"
      ]
     },
     "execution_count": 9,
     "metadata": {},
     "output_type": "execute_result"
    }
   ],
   "source": [
    "compactness"
   ]
  },
  {
   "cell_type": "code",
   "execution_count": 10,
   "id": "da422d66",
   "metadata": {
    "scrolled": true
   },
   "outputs": [
    {
     "data": {
      "text/plain": [
       "array([[0],\n",
       "       [0],\n",
       "       [0],\n",
       "       ...,\n",
       "       [0],\n",
       "       [0],\n",
       "       [2]], dtype=int32)"
      ]
     },
     "execution_count": 10,
     "metadata": {},
     "output_type": "execute_result"
    }
   ],
   "source": [
    "label"
   ]
  },
  {
   "cell_type": "code",
   "execution_count": 11,
   "id": "f1040de1",
   "metadata": {},
   "outputs": [
    {
     "data": {
      "text/plain": [
       "array([[163.96266 , 208.2239  , 107.21338 ],\n",
       "       [ 68.09353 ,  50.625492,  32.75567 ],\n",
       "       [138.99207 , 156.53926 ,  68.05368 ]], dtype=float32)"
      ]
     },
     "execution_count": 11,
     "metadata": {},
     "output_type": "execute_result"
    }
   ],
   "source": [
    "center"
   ]
  },
  {
   "cell_type": "markdown",
   "id": "465d6581",
   "metadata": {},
   "source": [
    "# Unit Conversion"
   ]
  },
  {
   "cell_type": "code",
   "execution_count": 12,
   "id": "b3bdebce",
   "metadata": {},
   "outputs": [
    {
     "data": {
      "text/plain": [
       "array([[163, 208, 107],\n",
       "       [ 68,  50,  32],\n",
       "       [138, 156,  68]], dtype=uint8)"
      ]
     },
     "execution_count": 12,
     "metadata": {},
     "output_type": "execute_result"
    }
   ],
   "source": [
    "center = np.uint8(center)\n",
    "center"
   ]
  },
  {
   "cell_type": "markdown",
   "id": "a9a633b1",
   "metadata": {},
   "source": [
    "# Flattening and Reshape"
   ]
  },
  {
   "cell_type": "code",
   "execution_count": 13,
   "id": "d0d458e0",
   "metadata": {},
   "outputs": [
    {
     "data": {
      "text/plain": [
       "array([[[163, 208, 107],\n",
       "        [163, 208, 107],\n",
       "        [163, 208, 107],\n",
       "        ...,\n",
       "        [163, 208, 107],\n",
       "        [163, 208, 107],\n",
       "        [163, 208, 107]],\n",
       "\n",
       "       [[163, 208, 107],\n",
       "        [163, 208, 107],\n",
       "        [163, 208, 107],\n",
       "        ...,\n",
       "        [163, 208, 107],\n",
       "        [163, 208, 107],\n",
       "        [163, 208, 107]],\n",
       "\n",
       "       [[163, 208, 107],\n",
       "        [163, 208, 107],\n",
       "        [163, 208, 107],\n",
       "        ...,\n",
       "        [163, 208, 107],\n",
       "        [163, 208, 107],\n",
       "        [163, 208, 107]],\n",
       "\n",
       "       ...,\n",
       "\n",
       "       [[138, 156,  68],\n",
       "        [138, 156,  68],\n",
       "        [138, 156,  68],\n",
       "        ...,\n",
       "        [138, 156,  68],\n",
       "        [138, 156,  68],\n",
       "        [138, 156,  68]],\n",
       "\n",
       "       [[138, 156,  68],\n",
       "        [138, 156,  68],\n",
       "        [138, 156,  68],\n",
       "        ...,\n",
       "        [163, 208, 107],\n",
       "        [138, 156,  68],\n",
       "        [138, 156,  68]],\n",
       "\n",
       "       [[138, 156,  68],\n",
       "        [138, 156,  68],\n",
       "        [138, 156,  68],\n",
       "        ...,\n",
       "        [163, 208, 107],\n",
       "        [163, 208, 107],\n",
       "        [138, 156,  68]]], dtype=uint8)"
      ]
     },
     "execution_count": 13,
     "metadata": {},
     "output_type": "execute_result"
    }
   ],
   "source": [
    "res = center[label.flatten()]\n",
    "res_img = res.reshape((imgrgb.shape))\n",
    "res_img"
   ]
  },
  {
   "cell_type": "markdown",
   "id": "4535a834",
   "metadata": {},
   "source": [
    "# Original and Segmented Image"
   ]
  },
  {
   "cell_type": "code",
   "execution_count": null,
   "id": "df48972e",
   "metadata": {},
   "outputs": [],
   "source": [
    "cv2.imshow(\"Original Image\", img)\n",
    "cv2.imshow(\"Segmented Image\", res_img)\n",
    "cv2.waitKey(0)\n",
    "cv2.destroyAllWindows()"
   ]
  },
  {
   "cell_type": "code",
   "execution_count": null,
   "id": "a89ff5c0",
   "metadata": {},
   "outputs": [],
   "source": []
  }
 ],
 "metadata": {
  "kernelspec": {
   "display_name": "Python 3 (ipykernel)",
   "language": "python",
   "name": "python3"
  },
  "language_info": {
   "codemirror_mode": {
    "name": "ipython",
    "version": 3
   },
   "file_extension": ".py",
   "mimetype": "text/x-python",
   "name": "python",
   "nbconvert_exporter": "python",
   "pygments_lexer": "ipython3",
   "version": "3.11.4"
  }
 },
 "nbformat": 4,
 "nbformat_minor": 5
}
