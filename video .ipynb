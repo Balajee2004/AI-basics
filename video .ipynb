{
 "cells": [
  {
   "cell_type": "markdown",
   "id": "5489fe46",
   "metadata": {},
   "source": [
    "# Importing Modules"
   ]
  },
  {
   "cell_type": "code",
   "execution_count": 1,
   "id": "c95f6766",
   "metadata": {},
   "outputs": [],
   "source": [
    "import cv2\n",
    "import numpy as np"
   ]
  },
  {
   "cell_type": "markdown",
   "id": "d3295423",
   "metadata": {},
   "source": [
    "# Video Capturing"
   ]
  },
  {
   "cell_type": "code",
   "execution_count": 2,
   "id": "103d9833",
   "metadata": {},
   "outputs": [],
   "source": [
    "vid = cv2.VideoCapture(0)"
   ]
  },
  {
   "cell_type": "code",
   "execution_count": 3,
   "id": "42d4fc07",
   "metadata": {},
   "outputs": [],
   "source": [
    "while(True):\n",
    "    ret, frame = vid.read()\n",
    "    gray = cv2.cvtColor(frame, cv2.COLOR_BGR2GRAY)\n",
    "    cv2.imshow(\"Frame\", frame)\n",
    "    cv2.imshow(\"Gray\", gray)\n",
    "    if cv2.waitKey(1) & 0xFF == ord('q'):\n",
    "        break\n",
    "vid.release()\n",
    "cv2.destroyAllWindows()"
   ]
  },
  {
   "cell_type": "markdown",
   "id": "efd5f958",
   "metadata": {},
   "source": [
    "# Saving Video"
   ]
  },
  {
   "cell_type": "code",
   "execution_count": 10,
   "id": "dee5f26f",
   "metadata": {},
   "outputs": [
    {
     "ename": "TypeError",
     "evalue": "VideoWriter_fourcc() missing required argument 'c2' (pos 2)",
     "output_type": "error",
     "traceback": [
      "\u001b[1;31m---------------------------------------------------------------------------\u001b[0m",
      "\u001b[1;31mTypeError\u001b[0m                                 Traceback (most recent call last)",
      "Cell \u001b[1;32mIn[10], line 1\u001b[0m\n\u001b[1;32m----> 1\u001b[0m fourcc \u001b[38;5;241m=\u001b[39m cv2\u001b[38;5;241m.\u001b[39mVideoWriter_fourcc(\u001b[38;5;124m'\u001b[39m\u001b[38;5;124mmp4v\u001b[39m\u001b[38;5;124m'\u001b[39m)\n",
      "\u001b[1;31mTypeError\u001b[0m: VideoWriter_fourcc() missing required argument 'c2' (pos 2)"
     ]
    }
   ],
   "source": [
    "fourcc = cv2.VideoWriter_fourcc('mp4v')"
   ]
  },
  {
   "cell_type": "code",
   "execution_count": null,
   "id": "fe0fc593",
   "metadata": {},
   "outputs": [],
   "source": []
  }
 ],
 "metadata": {
  "kernelspec": {
   "display_name": "Python 3 (ipykernel)",
   "language": "python",
   "name": "python3"
  },
  "language_info": {
   "codemirror_mode": {
    "name": "ipython",
    "version": 3
   },
   "file_extension": ".py",
   "mimetype": "text/x-python",
   "name": "python",
   "nbconvert_exporter": "python",
   "pygments_lexer": "ipython3",
   "version": "3.11.4"
  }
 },
 "nbformat": 4,
 "nbformat_minor": 5
}
