{
 "cells": [
  {
   "cell_type": "code",
   "execution_count": 1,
   "id": "43afd44c",
   "metadata": {},
   "outputs": [],
   "source": [
    "import cv2\n",
    "import numpy as np"
   ]
  },
  {
   "cell_type": "code",
   "execution_count": 2,
   "id": "159f2b8a",
   "metadata": {},
   "outputs": [],
   "source": [
    "image = cv2.imread(\"C:/Users/MR.H.BALAJEE/Downloads/image.jpeg\")"
   ]
  },
  {
   "cell_type": "code",
   "execution_count": 3,
   "id": "af44edaf",
   "metadata": {},
   "outputs": [],
   "source": [
    "img = image.shape"
   ]
  },
  {
   "cell_type": "code",
   "execution_count": 4,
   "id": "f5200a54",
   "metadata": {},
   "outputs": [
    {
     "name": "stdout",
     "output_type": "stream",
     "text": [
      "(216, 288, 3)\n"
     ]
    }
   ],
   "source": [
    "print(img)"
   ]
  },
  {
   "cell_type": "code",
   "execution_count": 5,
   "id": "1e3358b3",
   "metadata": {},
   "outputs": [],
   "source": [
    "sz = image.size"
   ]
  },
  {
   "cell_type": "code",
   "execution_count": 6,
   "id": "00c32aef",
   "metadata": {},
   "outputs": [
    {
     "name": "stdout",
     "output_type": "stream",
     "text": [
      "186624\n"
     ]
    }
   ],
   "source": [
    "print(sz)"
   ]
  },
  {
   "cell_type": "code",
   "execution_count": 7,
   "id": "cd74c6a9",
   "metadata": {},
   "outputs": [],
   "source": [
    "pix = image[20,20]"
   ]
  },
  {
   "cell_type": "code",
   "execution_count": 8,
   "id": "d2c99098",
   "metadata": {},
   "outputs": [
    {
     "name": "stdout",
     "output_type": "stream",
     "text": [
      "[127 164 138]\n"
     ]
    }
   ],
   "source": [
    "print(pix)"
   ]
  },
  {
   "cell_type": "code",
   "execution_count": null,
   "id": "57e84db2",
   "metadata": {},
   "outputs": [],
   "source": []
  }
 ],
 "metadata": {
  "kernelspec": {
   "display_name": "Python 3 (ipykernel)",
   "language": "python",
   "name": "python3"
  },
  "language_info": {
   "codemirror_mode": {
    "name": "ipython",
    "version": 3
   },
   "file_extension": ".py",
   "mimetype": "text/x-python",
   "name": "python",
   "nbconvert_exporter": "python",
   "pygments_lexer": "ipython3",
   "version": "3.11.4"
  }
 },
 "nbformat": 4,
 "nbformat_minor": 5
}
