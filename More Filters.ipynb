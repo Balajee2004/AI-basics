{
 "cells": [
  {
   "cell_type": "code",
   "execution_count": null,
   "id": "ddd6fe59",
   "metadata": {},
   "outputs": [],
   "source": [
    "import cv2 as cv\n",
    "import matplotlib.pyplot as plt\n",
    "import numpy as np"
   ]
  },
  {
   "cell_type": "markdown",
   "id": "678baf6c",
   "metadata": {},
   "source": [
    "# Heading"
   ]
  },
  {
   "cell_type": "code",
   "execution_count": null,
   "id": "70aeb307",
   "metadata": {},
   "outputs": [],
   "source": [
    "img = cv.imread(\"C:/Users/MR.H.BALAJEE/Downloads/german shepherd.jpeg\")\n",
    "kernal = np.ones((3,3),np.float32)/9\n",
    "dst = cv.filter2D(img,-1,kernal)\n",
    "cv.imshow(\"German Shepherd\",img)\n",
    "cv.imshow(\"DST\",dst)\n",
    "cv.waitKey(0)\n",
    "cv.destroyAllWindows()"
   ]
  },
  {
   "cell_type": "markdown",
   "id": "00817c89",
   "metadata": {},
   "source": [
    "# Blur"
   ]
  },
  {
   "cell_type": "code",
   "execution_count": null,
   "id": "3732a804",
   "metadata": {},
   "outputs": [],
   "source": [
    "img = cv.imread(\"C:/Users/MR.H.BALAJEE/Downloads/german shepherd.jpeg\")\n",
    "blur = cv.blur(img,(5,5))\n",
    "cv.imshow(\"German Shepherd\",img)\n",
    "cv.imshow(\"BLUR\",blur)\n",
    "cv.waitKey(0)\n",
    "cv.destroyAllWindows()"
   ]
  },
  {
   "cell_type": "markdown",
   "id": "0d80f25b",
   "metadata": {},
   "source": [
    "# Gaussian Blur"
   ]
  },
  {
   "cell_type": "code",
   "execution_count": null,
   "id": "95ab978b",
   "metadata": {},
   "outputs": [],
   "source": [
    "img = cv.imread(\"C:/Users/MR.H.BALAJEE/Downloads/german shepherd.jpeg\")\n",
    "G_Blur = cv.GaussianBlur(img,(5,5),0)\n",
    "cv.imshow(\"German Shepherd\",img)\n",
    "cv.imshow(\"GaussianBlur\",G_Blur)\n",
    "cv.waitKey(0)\n",
    "cv.destroyAllWindows()"
   ]
  },
  {
   "cell_type": "code",
   "execution_count": null,
   "id": "a65752a0",
   "metadata": {},
   "outputs": [],
   "source": [
    "img = cv.imread(\"C:/Users/MR.H.BALAJEE/Downloads/noise train.jpg\")\n",
    "G_Blur = cv.GaussianBlur(img,(5,5),0)\n",
    "cv.imshow(\"Train\",img)\n",
    "cv.imshow(\"GaussianBlur\",G_Blur)\n",
    "cv.waitKey(0)\n",
    "cv.destroyAllWindows()"
   ]
  },
  {
   "cell_type": "code",
   "execution_count": null,
   "id": "bc006799",
   "metadata": {},
   "outputs": [],
   "source": [
    "img = cv.imread(\"C:/Users/MR.H.BALAJEE/Downloads/noise train.jpg\")\n",
    "G_Blur2 = cv.bilateralFilter(img,15,50,50)\n",
    "cv.imshow(\"Train\",img)\n",
    "cv.imshow(\"Bilateral Filter\",G_Blur2)\n",
    "cv.imshow(\"GaussianBlur\",G_Blur)\n",
    "cv.waitKey(0)\n",
    "cv.destroyAllWindows()"
   ]
  },
  {
   "cell_type": "markdown",
   "id": "d0e9e2a2",
   "metadata": {},
   "source": [
    "# Median Filter"
   ]
  },
  {
   "cell_type": "code",
   "execution_count": null,
   "id": "13e19ae6",
   "metadata": {},
   "outputs": [],
   "source": [
    "img = cv.imread(\"C:/Users/MR.H.BALAJEE/Downloads/salt&pepper.jpeg\")\n",
    "Median_Filters = cv.medianBlur(img,5)\n",
    "cv.imshow(\"Normal\",img)\n",
    "cv.imshow(\"Median Filtered\",Median_Filters)\n",
    "cv.waitKey(0)\n",
    "cv.destroyAllWindows()"
   ]
  }
 ],
 "metadata": {
  "kernelspec": {
   "display_name": "Python 3 (ipykernel)",
   "language": "python",
   "name": "python3"
  },
  "language_info": {
   "codemirror_mode": {
    "name": "ipython",
    "version": 3
   },
   "file_extension": ".py",
   "mimetype": "text/x-python",
   "name": "python",
   "nbconvert_exporter": "python",
   "pygments_lexer": "ipython3",
   "version": "3.11.4"
  }
 },
 "nbformat": 4,
 "nbformat_minor": 5
}
