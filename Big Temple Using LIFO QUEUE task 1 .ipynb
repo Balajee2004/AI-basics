{
 "cells": [
  {
   "cell_type": "code",
   "execution_count": 45,
   "id": "30b7f492",
   "metadata": {},
   "outputs": [],
   "source": [
    "graph = {'pkc' : ['entrance'],\n",
    "         'entrance' : ['roundana'],\n",
    "         'roundana' : ['medical','collector office'],\n",
    "         'medical' : ['rani paradise'],\n",
    "         'collector office' : ['new busstand'],\n",
    "         'rani paradise' : ['big temple'],\n",
    "         'new busstand' : ['mani mandabam'],\n",
    "         'mani mandabam' : ['membalam'],\n",
    "         'membalam' : ['rani paradise'],\n",
    "         'rani paradise' : ['big temple'],\n",
    "         'big temple' : ['rani paradise']\n",
    "        }"
   ]
  },
  {
   "cell_type": "code",
   "execution_count": 46,
   "id": "36ebb8f2",
   "metadata": {},
   "outputs": [],
   "source": [
    "from queue import LifoQueue\n",
    "stack = LifoQueue\n",
    "def dfs(graph,start,goal,visited):\n",
    "    stack = [start]\n",
    "    while stack:\n",
    "        node = stack.pop()\n",
    "        if node not in visited:\n",
    "            visited.append(node)\n",
    "            if node == goal:\n",
    "                print(visited)\n",
    "            for neighbours in graph[node]:\n",
    "                dfs(graph,neighbours,goal,visited)"
   ]
  },
  {
   "cell_type": "code",
   "execution_count": 47,
   "id": "17fb4545",
   "metadata": {
    "scrolled": true
   },
   "outputs": [
    {
     "name": "stdout",
     "output_type": "stream",
     "text": [
      "['pkc', 'entrance', 'roundana', 'medical', 'rani paradise', 'big temple']\n"
     ]
    }
   ],
   "source": [
    "dfs(graph,'pkc','big temple',[])"
   ]
  },
  {
   "cell_type": "code",
   "execution_count": null,
   "id": "cee0efc9",
   "metadata": {},
   "outputs": [],
   "source": []
  }
 ],
 "metadata": {
  "kernelspec": {
   "display_name": "Python 3 (ipykernel)",
   "language": "python",
   "name": "python3"
  },
  "language_info": {
   "codemirror_mode": {
    "name": "ipython",
    "version": 3
   },
   "file_extension": ".py",
   "mimetype": "text/x-python",
   "name": "python",
   "nbconvert_exporter": "python",
   "pygments_lexer": "ipython3",
   "version": "3.11.4"
  }
 },
 "nbformat": 4,
 "nbformat_minor": 5
}
