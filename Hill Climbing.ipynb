{
 "cells": [
  {
   "cell_type": "markdown",
   "id": "59e5b429",
   "metadata": {},
   "source": [
    "Travelling Sales Person\n",
    "\n",
    "Finding the best possible shortest route amoung these cities to travel\n",
    "\n",
    "Chennai - Banglore = 347\n",
    "\n",
    "Chennai - Delhi = 2196\n",
    "\n",
    "Chennai - Kolkata = 1667\n",
    "\n",
    "Bangalore - Delhi = 2164\n",
    "\n",
    "Bangalore to Kolkata = 1875\n",
    "\n",
    "Delhi - Kolkata = 1559\n",
    "\n",
    "All values in kms "
   ]
  },
  {
   "cell_type": "markdown",
   "id": "535afa2f",
   "metadata": {},
   "source": [
    "# Import Random Library"
   ]
  },
  {
   "cell_type": "code",
   "execution_count": 15,
   "id": "e895ddf3",
   "metadata": {},
   "outputs": [],
   "source": [
    "import random"
   ]
  },
  {
   "cell_type": "markdown",
   "id": "33ba5500",
   "metadata": {},
   "source": [
    "# Travelling Sales Man City Distance"
   ]
  },
  {
   "cell_type": "code",
   "execution_count": 16,
   "id": "36a1f937",
   "metadata": {},
   "outputs": [],
   "source": [
    "tsp = [[0,347,2196,1667],\n",
    "       [347,0,2164,1875],\n",
    "       [2196,2164,0,1159],\n",
    "       [1667,1875,1559,0]]"
   ]
  },
  {
   "cell_type": "code",
   "execution_count": 17,
   "id": "124f78c2",
   "metadata": {},
   "outputs": [
    {
     "data": {
      "text/plain": [
       "4"
      ]
     },
     "execution_count": 17,
     "metadata": {},
     "output_type": "execute_result"
    }
   ],
   "source": [
    "len(tsp)"
   ]
  },
  {
   "cell_type": "markdown",
   "id": "574f3aba",
   "metadata": {},
   "source": [
    "# Random Solution Generator"
   ]
  },
  {
   "cell_type": "code",
   "execution_count": 18,
   "id": "e577b8b6",
   "metadata": {},
   "outputs": [],
   "source": [
    "def randomSolution(tsp):\n",
    "    cities = list(range(len(tsp)))\n",
    "    solution = []\n",
    "    \n",
    "    for i in range(len(tsp)):\n",
    "        randomCity = cities[random.randint(0, len(cities) - 1)]\n",
    "        solution.append(randomCity)\n",
    "        cities.remove(randomCity)\n",
    "        \n",
    "    return solution\n"
   ]
  },
  {
   "cell_type": "code",
   "execution_count": 19,
   "id": "90b70366",
   "metadata": {},
   "outputs": [
    {
     "name": "stdout",
     "output_type": "stream",
     "text": [
      "[0, 1, 3, 2]\n"
     ]
    }
   ],
   "source": [
    "solution = randomSolution(tsp)\n",
    "print(solution)"
   ]
  },
  {
   "cell_type": "markdown",
   "id": "7fb80bc9",
   "metadata": {},
   "source": [
    "# Calculating the Length of the Route"
   ]
  },
  {
   "cell_type": "code",
   "execution_count": 20,
   "id": "f8656140",
   "metadata": {},
   "outputs": [],
   "source": [
    "def routeLength(tsp, solution):\n",
    "    routeLength = 0\n",
    "    for i in range(len(solution)):\n",
    "        routeLength += tsp[solution[i - 1]][solution[i]]\n",
    "    return routeLength"
   ]
  },
  {
   "cell_type": "code",
   "execution_count": 21,
   "id": "59d11394",
   "metadata": {},
   "outputs": [
    {
     "data": {
      "text/plain": [
       "5977"
      ]
     },
     "execution_count": 21,
     "metadata": {},
     "output_type": "execute_result"
    }
   ],
   "source": [
    "routeLength(tsp, solution)"
   ]
  },
  {
   "cell_type": "markdown",
   "id": "97807bf8",
   "metadata": {},
   "source": [
    "# Generation Neighbours"
   ]
  },
  {
   "cell_type": "code",
   "execution_count": 22,
   "id": "90a72228",
   "metadata": {},
   "outputs": [],
   "source": [
    "def getNeighbours(solution):\n",
    "    neighbours = []\n",
    "    for i in range(len(solution)):\n",
    "        for j in range(i + 1,len(solution)):\n",
    "            neighbour = solution.copy()\n",
    "            neighbour[i] = solution[j]\n",
    "            neighbour[j] = solution[i]\n",
    "            neighbours.append(neighbour)\n",
    "    return neighbours    "
   ]
  },
  {
   "cell_type": "code",
   "execution_count": 23,
   "id": "f341a694",
   "metadata": {},
   "outputs": [
    {
     "name": "stdout",
     "output_type": "stream",
     "text": [
      "[[1, 0, 3, 2], [3, 1, 0, 2], [2, 1, 3, 0], [0, 3, 1, 2], [0, 2, 3, 1], [0, 1, 2, 3]]\n"
     ]
    }
   ],
   "source": [
    "neighbours = getNeighbours(solution)\n",
    "print(neighbours)"
   ]
  },
  {
   "cell_type": "markdown",
   "id": "a3ad5199",
   "metadata": {},
   "source": [
    "# Finding Best Neighbour"
   ]
  },
  {
   "cell_type": "code",
   "execution_count": 24,
   "id": "25dd448d",
   "metadata": {},
   "outputs": [],
   "source": [
    "def getBestNeighbour(tsp, neighbours):\n",
    "    bestRouteLength = routeLength(tsp, neighbours[0])\n",
    "    bestNeighbour = neighbours[0]\n",
    "    for neighbour in neighbours:\n",
    "        currentRouteLength = routeLength(tsp, neighbour)\n",
    "        if currentRouteLength < bestRouteLength:\n",
    "            bestRouteLength = currentRouteLength\n",
    "            bestNeighbour = neighbour\n",
    "    return bestNeighbour, bestRouteLength    "
   ]
  },
  {
   "cell_type": "code",
   "execution_count": 25,
   "id": "0a71e19f",
   "metadata": {},
   "outputs": [
    {
     "data": {
      "text/plain": [
       "([0, 1, 2, 3], 5337)"
      ]
     },
     "execution_count": 25,
     "metadata": {},
     "output_type": "execute_result"
    }
   ],
   "source": [
    "getBestNeighbour(tsp, neighbours)"
   ]
  },
  {
   "cell_type": "markdown",
   "id": "c4835ab0",
   "metadata": {},
   "source": [
    "# Hill Climbing Algorithm"
   ]
  },
  {
   "cell_type": "code",
   "execution_count": 26,
   "id": "3b933449",
   "metadata": {},
   "outputs": [],
   "source": [
    "def hillClimbing(tsp):\n",
    "    currentSolution = randomSolution(tsp)\n",
    "    currentRouteLength = routeLength(tsp, currentSolution)\n",
    "    neighbours = getNeighbours(currentSolution)\n",
    "    bestNeighbour, bestNeighbourRouteLength = getBestNeighbour(tsp, neighbours)\n",
    "    \n",
    "    while bestNeighbourRouteLength < currentRouteLength:\n",
    "        currentSolution = bestNeighbour\n",
    "        currentRouteLength = bestNeighbourRouteLength\n",
    "        neighbours = getNeighbours(currentSolution)\n",
    "        bestNeighbour, bestNeighbourRouteLength = getBestNeighbour(tsp, neighbours)\n",
    "    \n",
    "    return currentSolution, currentRouteLength"
   ]
  },
  {
   "cell_type": "markdown",
   "id": "625756d8",
   "metadata": {},
   "source": [
    "# Hill Climbing Solution"
   ]
  },
  {
   "cell_type": "code",
   "execution_count": 27,
   "id": "e1b03420",
   "metadata": {},
   "outputs": [
    {
     "name": "stdout",
     "output_type": "stream",
     "text": [
      "([1, 2, 3, 0], 5337)\n"
     ]
    }
   ],
   "source": [
    "print(hillClimbing(tsp))"
   ]
  },
  {
   "cell_type": "code",
   "execution_count": null,
   "id": "c6aa6390",
   "metadata": {},
   "outputs": [],
   "source": []
  }
 ],
 "metadata": {
  "kernelspec": {
   "display_name": "Python 3 (ipykernel)",
   "language": "python",
   "name": "python3"
  },
  "language_info": {
   "codemirror_mode": {
    "name": "ipython",
    "version": 3
   },
   "file_extension": ".py",
   "mimetype": "text/x-python",
   "name": "python",
   "nbconvert_exporter": "python",
   "pygments_lexer": "ipython3",
   "version": "3.11.4"
  }
 },
 "nbformat": 4,
 "nbformat_minor": 5
}
