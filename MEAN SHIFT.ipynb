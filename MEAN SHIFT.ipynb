{
 "cells": [
  {
   "cell_type": "code",
   "execution_count": 1,
   "id": "1f0805b0",
   "metadata": {},
   "outputs": [],
   "source": [
    "import cv2\n",
    "import numpy as np"
   ]
  },
  {
   "cell_type": "code",
   "execution_count": 2,
   "id": "bebcfcb8",
   "metadata": {},
   "outputs": [
    {
     "data": {
      "text/plain": [
       "array([[[114, 211, 161],\n",
       "        [114, 211, 161],\n",
       "        [114, 211, 161],\n",
       "        ...,\n",
       "        [123, 222, 166],\n",
       "        [123, 222, 166],\n",
       "        [123, 222, 166]],\n",
       "\n",
       "       [[114, 211, 161],\n",
       "        [114, 211, 161],\n",
       "        [114, 211, 161],\n",
       "        ...,\n",
       "        [124, 223, 167],\n",
       "        [124, 223, 167],\n",
       "        [124, 223, 167]],\n",
       "\n",
       "       [[114, 211, 161],\n",
       "        [114, 211, 161],\n",
       "        [114, 211, 161],\n",
       "        ...,\n",
       "        [125, 224, 168],\n",
       "        [125, 224, 168],\n",
       "        [125, 224, 168]],\n",
       "\n",
       "       ...,\n",
       "\n",
       "       [[ 59, 179, 125],\n",
       "        [ 60, 180, 126],\n",
       "        [ 64, 184, 130],\n",
       "        ...,\n",
       "        [ 58, 169, 117],\n",
       "        [ 51, 162, 110],\n",
       "        [ 34, 145,  93]],\n",
       "\n",
       "       [[ 57, 177, 123],\n",
       "        [ 58, 178, 124],\n",
       "        [ 61, 181, 127],\n",
       "        ...,\n",
       "        [ 91, 202, 150],\n",
       "        [ 77, 188, 136],\n",
       "        [ 49, 160, 108]],\n",
       "\n",
       "       [[ 63, 183, 129],\n",
       "        [ 63, 183, 129],\n",
       "        [ 64, 184, 130],\n",
       "        ...,\n",
       "        [102, 213, 161],\n",
       "        [ 83, 194, 142],\n",
       "        [ 48, 159, 107]]], dtype=uint8)"
      ]
     },
     "execution_count": 2,
     "metadata": {},
     "output_type": "execute_result"
    }
   ],
   "source": [
    "img = cv2.imread(\"C:/Users/MR.H.BALAJEE/Downloads/german shepherd.jpeg\")\n",
    "img"
   ]
  },
  {
   "cell_type": "code",
   "execution_count": 3,
   "id": "4bad19a2",
   "metadata": {},
   "outputs": [],
   "source": [
    "segmented_image = cv2.pyrMeanShiftFiltering(img,40,40)"
   ]
  },
  {
   "cell_type": "code",
   "execution_count": 4,
   "id": "bd2fef47",
   "metadata": {},
   "outputs": [],
   "source": [
    "cv2.imshow(\"Orignal Image\", img)\n",
    "cv2.imshow(\"Segmented Image\", segmented_image)\n",
    "cv2.waitKey(0)\n",
    "cv2.destroyAllWindows()"
   ]
  },
  {
   "cell_type": "code",
   "execution_count": null,
   "id": "4a290acc",
   "metadata": {},
   "outputs": [],
   "source": []
  }
 ],
 "metadata": {
  "kernelspec": {
   "display_name": "Python 3 (ipykernel)",
   "language": "python",
   "name": "python3"
  },
  "language_info": {
   "codemirror_mode": {
    "name": "ipython",
    "version": 3
   },
   "file_extension": ".py",
   "mimetype": "text/x-python",
   "name": "python",
   "nbconvert_exporter": "python",
   "pygments_lexer": "ipython3",
   "version": "3.11.4"
  }
 },
 "nbformat": 4,
 "nbformat_minor": 5
}
